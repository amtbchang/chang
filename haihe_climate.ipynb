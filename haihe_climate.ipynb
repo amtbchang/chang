{
 "cells": [
  {
   "cell_type": "code",
   "execution_count": 6,
   "metadata": {},
   "outputs": [],
   "source": [
    "def writeTiff(im_data,im_width,im_height,im_bands,im_geotrans,im_proj,path):\n",
    "    if 'int8' in im_data.dtype.name:\n",
    "        datatype = gdal.GDT_Byte\n",
    "    elif 'int16' in im_data.dtype.name:\n",
    "        datatype = gdal.GDT_UInt16\n",
    "    else:\n",
    "        datatype = gdal.GDT_Float32\n",
    "\n",
    "    if len(im_data.shape) == 3:\n",
    "        im_bands, im_height, im_width = im_data.shape\n",
    "    elif len(im_data.shape) == 2:\n",
    "        im_data = np.array([im_data])\n",
    "    else:\n",
    "        im_bands, (im_height, im_width) = 1,im_data.shape\n",
    "        #创建文件\n",
    "    driver = gdal.GetDriverByName(\"GTiff\")\n",
    "    dataset = driver.Create(path, im_width, im_height, im_bands, datatype)\n",
    "    if(dataset!= None):\n",
    "        dataset.SetGeoTransform(im_geotrans) #写入仿射变换参数\n",
    "        dataset.SetProjection(im_proj) #写入投影\n",
    "    for i in range(im_bands):\n",
    "        dataset.GetRasterBand(i+1).WriteArray(im_data[i])\n",
    "    del dataset"
   ]
  },
  {
   "cell_type": "code",
   "execution_count": 7,
   "metadata": {},
   "outputs": [],
   "source": [
    "from netCDF4 import Dataset\n",
    "import numpy as np\n",
    "import pandas as pd\n",
    "import matplotlib.pyplot as plt\n",
    "from osgeo import gdal\n",
    "\n",
    "path = r'I:\\haihe_clim\\pr_haihe_historical_1970-2000.nc'\n",
    "\n",
    "data = Dataset(path, 'r')"
   ]
  },
  {
   "cell_type": "code",
   "execution_count": 38,
   "metadata": {
    "scrolled": true
   },
   "outputs": [
    {
     "data": {
      "text/plain": [
       "(masked_array(data=[112.5, 113. , 113.5, 114. , 114.5, 115. , 115.5, 116. ,\n",
       "                    116.5, 117. , 117.5, 118. , 118.5, 119. , 119.5],\n",
       "              mask=False,\n",
       "        fill_value=1e+20),\n",
       " masked_array(data=[34.5, 35. , 35.5, 36. , 36.5, 37. , 37.5, 38. , 38.5,\n",
       "                    39. , 39.5, 40. , 40.5, 41. , 41.5, 42. , 42.5],\n",
       "              mask=False,\n",
       "        fill_value=1e+20))"
      ]
     },
     "execution_count": 38,
     "metadata": {},
     "output_type": "execute_result"
    }
   ],
   "source": [
    "data['lon'][:], data['lat'][:]"
   ]
  },
  {
   "cell_type": "code",
   "execution_count": 31,
   "metadata": {},
   "outputs": [
    {
     "data": {
      "text/plain": [
       "<class 'netCDF4._netCDF4.Dataset'>\n",
       "root group (NETCDF3_CLASSIC data model, file format NETCDF3):\n",
       "    dimensions(sizes): lon(15), lat(17), time(11323), ens(50)\n",
       "    variables(dimensions): float64 \u001b[4mlon\u001b[0m(lon), float64 \u001b[4mlat\u001b[0m(lat), float64 \u001b[4mtime\u001b[0m(time), int32 \u001b[4mens\u001b[0m(ens), float32 \u001b[4mpr\u001b[0m(ens,time,lat,lon), float32 \u001b[4mq50\u001b[0m(time,lat,lon), float32 \u001b[4mq90\u001b[0m(time,lat,lon), float32 \u001b[4mq95\u001b[0m(time,lat,lon)\n",
       "    groups: "
      ]
     },
     "execution_count": 31,
     "metadata": {},
     "output_type": "execute_result"
    }
   ],
   "source": [
    "data"
   ]
  },
  {
   "cell_type": "code",
   "execution_count": 69,
   "metadata": {
    "scrolled": false
   },
   "outputs": [],
   "source": [
    "a = [31, 28, 31, 30, 31, 30, 31, 31, 30, 31, 30, 31]*31\n",
    "mon_day = np.array(a)\n",
    "mon_day = np.insert(mon_day, 0, 0)\n",
    "\n",
    "file_name = []\n",
    "for i  in pd.date_range(start='19700101',end='20001231',freq='1M'):\n",
    "    file_name.append(str(i)[:7].replace('-', '_'))"
   ]
  },
  {
   "cell_type": "code",
   "execution_count": 75,
   "metadata": {},
   "outputs": [],
   "source": [
    "ds = gdal.Open(r'G:\\china_geodata\\China_soil_1km\\ChinaSoil_1km.tif')\n",
    "prj = ds.GetProjection()\n",
    "#tr = ds.GetGeoTransform()\n",
    "tr = (112.5, 0.5, 0.0, 42.5, 0.0, -0.5)\n",
    "ind_0 = 0\n",
    "ind_1 = 0\n",
    "for i in range(372):\n",
    "    ind_0 += mon_day[i]\n",
    "    ind_1 += mon_day[i+1]\n",
    "    a = np.mean(data['pr'][:,ind_0:ind_1,:,:], axis=0)\n",
    "    b = np.sum(a, axis=0)\n",
    "    writeTiff(b,15, 17, 1,tr, prj,r'I:\\haihe_clim\\pr_%s.tif'%file_name[i])"
   ]
  },
  {
   "cell_type": "code",
   "execution_count": null,
   "metadata": {},
   "outputs": [],
   "source": [
    "\n",
    "   "
   ]
  },
  {
   "cell_type": "code",
   "execution_count": null,
   "metadata": {},
   "outputs": [],
   "source": []
  }
 ],
 "metadata": {
  "kernelspec": {
   "display_name": "Python 3",
   "language": "python",
   "name": "python3"
  },
  "language_info": {
   "codemirror_mode": {
    "name": "ipython",
    "version": 3
   },
   "file_extension": ".py",
   "mimetype": "text/x-python",
   "name": "python",
   "nbconvert_exporter": "python",
   "pygments_lexer": "ipython3",
   "version": "3.6.5"
  }
 },
 "nbformat": 4,
 "nbformat_minor": 2
}
