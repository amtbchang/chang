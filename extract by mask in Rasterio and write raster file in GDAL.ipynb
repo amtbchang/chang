{
 "cells": [
  {
   "cell_type": "code",
   "execution_count": 1,
   "metadata": {},
   "outputs": [],
   "source": [
    "import os\n",
    "import numpy as np\n",
    "from osgeo import gdal\n",
    "\n",
    "def writeTiff(im_data,im_width,im_height,im_bands,im_geotrans,im_proj,path):\n",
    "    if 'int8' in im_data.dtype.name:\n",
    "        datatype = gdal.GDT_Byte\n",
    "    elif 'int16' in im_data.dtype.name:\n",
    "        datatype = gdal.GDT_UInt16\n",
    "    else:\n",
    "        datatype = gdal.GDT_Float32\n",
    "\n",
    "    if len(im_data.shape) == 3:\n",
    "        im_bands, im_height, im_width = im_data.shape\n",
    "    elif len(im_data.shape) == 2:\n",
    "        im_data = np.array([im_data])\n",
    "    else:\n",
    "        im_bands, (im_height, im_width) = 1,im_data.shape\n",
    "        #创建文件\n",
    "    driver = gdal.GetDriverByName(\"GTiff\")\n",
    "    dataset = driver.Create(path, im_width, im_height, im_bands, datatype)\n",
    "    if(dataset!= None):\n",
    "        dataset.SetGeoTransform(im_geotrans) #写入仿射变换参数\n",
    "        dataset.SetProjection(im_proj) #写入投影\n",
    "    for i in range(im_bands):\n",
    "        dataset.GetRasterBand(i+1).WriteArray(im_data[i])\n",
    "    del dataset\n"
   ]
  },
  {
   "cell_type": "code",
   "execution_count": 2,
   "metadata": {},
   "outputs": [
    {
     "name": "stdout",
     "output_type": "stream",
     "text": [
      "(825, 1509)\n",
      "1509 825 1\n"
     ]
    }
   ],
   "source": [
    "\n",
    "#['slope','twi','pre_mean','b6_mean','savi_max','evi_max','ndvi_max']\n",
    "path = r'G:\\Hubei_SOM_MODIS_500m_prediction_2017\\2000-2017_RF_test_SOM\\GBRT\\GBRT_som_change'\n",
    "out_path = r'G:\\Hubei_SOM_MODIS_500m_prediction_2017\\2000-2017_RF_test_SOM\\GBRT\\GBRT_som_change'\n",
    "#print(os.walk(path))\n",
    "ds = gdal.Open(path+'//'+'som_p.tif')\n",
    "tr = ds.GetGeoTransform()\n",
    "prj = ds.GetProjection()\n",
    "x1 = ds.RasterXSize\n",
    "y1 = ds.RasterYSize\n",
    "im_bands = ds.RasterCount #波段数\n",
    "arr = ds.ReadAsArray(0, 0, x1, y1)#.reshape(-1, 1)\n",
    "\n",
    "print(arr.shape)\n",
    "print(x1, y1, im_bands,)"
   ]
  },
  {
   "cell_type": "code",
   "execution_count": 9,
   "metadata": {},
   "outputs": [
    {
     "data": {
      "image/png": "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\n",
      "text/plain": [
       "<Figure size 432x288 with 2 Axes>"
      ]
     },
     "metadata": {},
     "output_type": "display_data"
    }
   ],
   "source": [
    "%matplotlib inline\n",
    "import matplotlib.pyplot as plt\n",
    "arr[arr!=0] = np.nan\n",
    "plt.imshow(arr)\n",
    "plt.colorbar()\n",
    "writeTiff(arr, x1, y1, im_bands, tr, prj, out_path+'//'+'sig_mask.tif')\n"
   ]
  },
  {
   "cell_type": "code",
   "execution_count": null,
   "metadata": {},
   "outputs": [],
   "source": [
    "##rasterio \n",
    "##extract rif by mask\n",
    "import fiona\n",
    "import rasterio\n",
    "import rasterio.mask\n",
    "\n",
    "# open mask file\n",
    "with fiona.open(r\"F:\\soc_stocks\\map\\yunnan.shp\", \"r\") as shapefile:##mask shp file\n",
    "    features = [feature[\"geometry\"] for feature in shapefile]\n",
    "    \n",
    "\n",
    "#open tif by masked\n",
    "with rasterio.open(r\"G:\\china_geodata\\china_soil\\PH.tif\") as src:#read raster file\n",
    "    print(src.read(1))\n",
    "    out_image, out_transform = rasterio.mask.mask(src, features,\n",
    "                                                        crop=True)\n",
    "    out_image[out_image>0] = 255
    "    out_meta = src.meta.copy()\n",
    "    plt.imshow(out_image[0,:,:])\n",
    "    \n",
    "    \n",
    "    \n",
    "    \n",
    "out_meta.update({\"driver\": \"GTiff\",\n",
    "                 \"height\": out_image.shape[1],\n",
    "                 'nodata': 255,\n",
    "                 \"width\": out_image.shape[2],\n",
    "                 \"transform\": out_transform})\n",
    "\n",
    "#write the masked raster to a new file.\n",
    "with rasterio.open(r\"F:\\soc_stocks\\pH_masked.tif\", \"w\", **out_meta) as dest:#write raster file\n",
    "    dest.write(out_image)"
   ]
  },
  {
   "cell_type": "markdown",
   "metadata": {},
   "source": [
    "# There are different methods to solve this problem."
   ]
  },
  {
   "cell_type": "code",
   "execution_count": null,
   "metadata": {},
   "outputs": [],
   "source": []
  }
 ],
 "metadata": {
  "kernelspec": {
   "display_name": "Python 3",
   "language": "python",
   "name": "python3"
  },
  "language_info": {
   "codemirror_mode": {
    "name": "ipython",
    "version": 3
   },
   "file_extension": ".py",
   "mimetype": "text/x-python",
   "name": "python",
   "nbconvert_exporter": "python",
   "pygments_lexer": "ipython3",
   "version": "3.6.5"
  }
 },
 "nbformat": 4,
 "nbformat_minor": 2
}
