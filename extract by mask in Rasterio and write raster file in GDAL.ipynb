{
 "cells": [
  {
   "cell_type": "code",
   "execution_count": 1,
   "metadata": {},
   "outputs": [],
   "source": [
    "import os\n",
    "import numpy as np\n",
    "from osgeo import gdal\n",
    "%matplotlib inline\n",
    "import matplotlib.pyplot as plt\n",
    "\n",
    "def writeTiff(im_data,im_width,im_height,im_bands,im_geotrans,im_proj,path):\n",
    "    if 'int8' in im_data.dtype.name:\n",
    "        datatype = gdal.GDT_Byte\n",
    "    elif 'int16' in im_data.dtype.name:\n",
    "        datatype = gdal.GDT_UInt16\n",
    "    else:\n",
    "        datatype = gdal.GDT_Float32\n",
    "\n",
    "    if len(im_data.shape) == 3:\n",
    "        im_bands, im_height, im_width = im_data.shape\n",
    "    elif len(im_data.shape) == 2:\n",
    "        im_data = np.array([im_data])\n",
    "    else:\n",
    "        im_bands, (im_height, im_width) = 1,im_data.shape\n",
    "        #创建文件\n",
    "    driver = gdal.GetDriverByName(\"GTiff\")\n",
    "    dataset = driver.Create(path, im_width, im_height, im_bands, datatype)\n",
    "    if(dataset!= None):\n",
    "        dataset.SetGeoTransform(im_geotrans) #写入仿射变换参数\n",
    "        dataset.SetProjection(im_proj) #写入投影\n",
    "    for i in range(im_bands):\n",
    "        dataset.GetRasterBand(i+1).WriteArray(im_data[i])\n",
    "    del dataset\n"
   ]
  },
  {
   "cell_type": "code",
   "execution_count": 11,
   "metadata": {},
   "outputs": [
    {
     "name": "stdout",
     "output_type": "stream",
     "text": [
      "(825, 1509) (825, 1509)\n",
      "1509 825 1\n"
     ]
    }
   ],
   "source": [
    "\n",
    "#['slope','twi','pre_mean','b6_mean','savi_max','evi_max','ndvi_max']\n",
    "path = r'G:\\Hubei_SOM_MODIS_500m_prediction_2017\\2000-2017_RF_test_SOM\\GBRT\\GBRT_som_change'\n",
    "out_path = r'G:\\Hubei_SOM_MODIS_500m_prediction_2017\\2000-2017_RF_test_SOM\\GBRT\\GBRT_som_change'\n",
    "#print(os.walk(path))\n",
    "ds = gdal.Open(path+'//'+'som_p.tif')\n",
    "ds1 = gdal.Open(path+'//'+'GBRT_Decrease_cropland_som_slope.tif')\n",
    "ds2 = gdal.Open(path+'//'+'GBRT_Increase_cropland_som_slope.tif')\n",
    "ds3 = gdal.Open(path+'//'+'GBRT_Unchanged_cropland_som_slope.tif')\n",
    "tr = ds.GetGeoTransform()\n",
    "prj = ds.GetProjection()\n",
    "x1 = ds.RasterXSize\n",
    "y1 = ds.RasterYSize\n",
    "im_bands = ds.RasterCount #波段数\n",
    "arr1 = ds1.ReadAsArray(0, 0, x1, y1)#.reshape(-1, 1)\n",
    "arr2 = ds2.ReadAsArray(0, 0, x1, y1)\n",
    "arr3 = ds3.ReadAsArray(0, 0, x1, y1)\n",
    "arr = ds.ReadAsArray(0, 0, x1, y1)\n",
    "\n",
    "print(arr.shape, arr1.shape)\n",
    "print(x1, y1, im_bands,)"
   ]
  },
  {
   "cell_type": "code",
   "execution_count": 14,
   "metadata": {},
   "outputs": [
    {
     "data": {
      "image/png": "[encoded data removed]",
      "text/plain": [
       "<Figure size 432x288 with 2 Axes>"
      ]
     },
     "metadata": {},
     "output_type": "display_data"
    }
   ],
   "source": [
    "%matplotlib inline\n",
    "import matplotlib.pyplot as plt\n",
    "arr1[arr1<-100] = np.nan\n",
    "arr1[arr!=0] = np.nan\n",
    "plt.imshow(arr1)\n",
    "plt.colorbar()\n",
    "writeTiff(arr1, x1, y1, im_bands, tr, prj, out_path+'//'+'dec_sig.tif')\n"
   ]
  },
  {
   "cell_type": "code",
   "execution_count": 40,
   "metadata": {},
   "outputs": [
    {
     "name": "stdout",
     "output_type": "stream",
     "text": [
      "[[0. 0. 0. ... 0. 0. 0.]\n",
      " [0. 0. 0. ... 0. 0. 0.]\n",
      " [0. 0. 0. ... 0. 0. 0.]\n",
      " ...\n",
      " [0. 0. 0. ... 0. 0. 0.]\n",
      " [0. 0. 0. ... 0. 0. 0.]\n",
      " [0. 0. 0. ... 0. 0. 0.]]\n",
      "(825, 1509)\n"
     ]
    },
    {
     "data": {
      "image/png": "[encoded data removed]",
      "text/plain": [
       "<Figure size 432x288 with 1 Axes>"
      ]
     },
     "metadata": {},
     "output_type": "display_data"
    }
   ],
   "source": [
    "##rasterio \n",
    "##extract rif by mask\n",
    "import fiona\n",
    "import rasterio\n",
    "import rasterio.mask\n",
    "\n",
    "# open mask file\n",
    "with fiona.open(r\"G:\\Hubei_SOM_MODIS_500m_prediction_2017\\shp\\HB_shp.shp\", \"r\") as shapefile:##mask shp file\n",
    "    features = [feature[\"geometry\"] for feature in shapefile]\n",
    "    \n",
    "\n",
    "#open tif by masked\n",
    "with rasterio.open(path+'//'+'som_p.tif') as src:#read raster file\n",
    "    print(src.read(1))\n",
    "    out_image, out_transform = rasterio.mask.mask(src, features,\n",
    "                                                        crop=True)\n",
    "    hight = out_image.shape[1]\n",
    "    width = out_image.shape[2]\n",
    "    out_meta = src.meta.copy()\n",
    "    out_image= out_image[0,:,:]\n",
    "    print(out_image.shape)\n",
    "    out_image[out_image>0] = 255\n",
    "    #out_image[arr>0] = 255\n",
    "    plt.imshow(out_image[:,:])\n",
    "\n",
    "     \n",
    "out_image = out_image.reshape(1, 825, 1509)    \n",
    "out_meta.update({\"driver\": \"GTiff\",\n",
    "                 \"height\": hight,\n",
    "                 'nodata':255,\n",
    "                 \"width\": width,\n",
    "                 \"transform\": out_transform})\n",
    "\n",
    "#write the masked raster to a new file.\n",
    "\n",
    "with rasterio.open( out_path+'//'+'p_value.tif', \"w\", **out_meta) as dest:#write raster file\n",
    "    dest.write(out_image)"
   ]
  },
  {
   "cell_type": "markdown",
   "metadata": {},
   "source": [
    "# There different methods to solve this problem."
   ]
  },
  {
   "cell_type": "code",
   "execution_count": 6,
   "metadata": {},
   "outputs": [
    {
     "data": {
      "text/plain": [
       "-340282346639000000870967122248196947968"
      ]
     },
     "execution_count": 6,
     "metadata": {},
     "output_type": "execute_result"
    }
   ],
   "source": [
    "int(-3.40282346639e+038)"
   ]
  },
  {
   "cell_type": "code",
   "execution_count": null,
   "metadata": {},
   "outputs": [],
   "source": []
  }
 ],
 "metadata": {
  "kernelspec": {
   "display_name": "Python 3",
   "language": "python",
   "name": "python3"
  },
  "language_info": {
   "codemirror_mode": {
    "name": "ipython",
    "version": 3
   },
   "file_extension": ".py",
   "mimetype": "text/x-python",
   "name": "python",
   "nbconvert_exporter": "python",
   "pygments_lexer": "ipython3",
   "version": "3.6.5"
  }
 },
 "nbformat": 4,
 "nbformat_minor": 2
}
