{
 "cells": [
  {
   "cell_type": "code",
   "execution_count": 1,
   "metadata": {},
   "outputs": [],
   "source": [
    "import numpy as np\n",
    "from osgeo import gdal\n",
    "from osgeo import osr\n",
    "\n",
    "def get_file_info(in_file_path):\n",
    "    \"\"\" only support tif file. return: gdal dataset, spatial coordinate system,\n",
    "    projection coordinate system and file size.\n",
    "    \"\"\"\n",
    "    pcs = None\n",
    "    gcs = None\n",
    "    shape = None\n",
    "\n",
    "    #\n",
    "    if in_file_path.endswith('.tif') or in_file_path.endswith('.TIF'):\n",
    "        dataset = gdal.Open(in_file_path)\n",
    "        pcs = osr.SpatialReference()\n",
    "        pcs.ImportFromWkt(dataset.GetProjection())\n",
    "        #\n",
    "        gcs = pcs.CloneGeogCS()\n",
    "        #\n",
    "        extend = dataset.GetGeoTransform()\n",
    "        #\n",
    "        shape = (dataset.RasterXSize, dataset.RasterYSize)\n",
    "    else:\n",
    "        raise(\"Unsupport file!\")\n",
    "    return dataset, gcs, pcs, extend, shape\n",
    "\n",
    "def lonlat_to_xy():\n",
    "    ''' return projected x and y'''\n",
    "    ct = osr.CoordinateTransfotmation(gcs, pcs)\n",
    "    coordinates = ct.TransformPoint(lon, lat)\n",
    "    return coordinates[0], coordinates[1], coordinates[2]\n",
    "\n",
    "def xy_to_lonlat(gcs, pcs, x, y):\n",
    "    '''\n",
    "    投影坐标--》经纬度坐标。 xy 为相元行列号。return 投影坐标对应的地理空间坐标\n",
    "    '''\n",
    "    ct = osr.CoordinateTransformation(pcs, gcs)\n",
    "    lon, lat, _ = ct.TransformPoint(x, y)\n",
    "    return lon, lat\n",
    "\n",
    "def xy_to_rowcol(extend, x, y):\n",
    "    '''\n",
    "    extend 图像空间范围；\n",
    "    x:投影坐标x\n",
    "    y:投影坐标y\n",
    "    return (x, y) to (row, col)\n",
    "    \n",
    "    '''\n",
    "    a = np.array([[extend[1], extend[2]], [extend[4], extend[5]]])\n",
    "    b = np.array([x - extend[0], y - extend[3]])\n",
    "    row_col = np.linalg.solve(a, b)#二元一次求解\n",
    "    row = int(np.floor(row_col[1]))\n",
    "    col = int(np.floor(row_col[0]))\n",
    "    return row, col\n",
    "def rowcol_to_xy(extend, row, col):\n",
    "    '''\n",
    "    extend 图像空间范围；\n",
    "    return (x, y) to (row, col) 行列号对应的投影坐标 \n",
    "    '''\n",
    "    x = extend[0] + row * extend[1] + col * extend[2] \n",
    "    y = extend[3] + row * extend[4] + col * extend[5]\n",
    "    return x, y\n",
    "def get_value_by_coordinates(file_path, coordinates, coordinate_type = \"rowcol\"):\n",
    "                                    \n",
    "    '''coordinate_type: \"rowcol\", \"xy\", \"lonlat\"\n",
    "    return 指定坐标相元值'''\n",
    "\n",
    "    #\n",
    "    dataset, gcs, pcs, extend, shape = get_file_info(file_path)\n",
    "    img = dataset.GetRasterBand(1).ReadAsArray()\n",
    "    value = None\n",
    "    #\n",
    "    if coordinate_type == \"rowcol\":\n",
    "        value = img[coordinates[0], coordinates[1]]\n",
    "    elif   coordinate_type == \"lonlat\":\n",
    "        x, y, _ = lonlat_to_xy(gcs, pcs, coordinates[0], coordinates[1])\n",
    "        row, col = xy_to_rowcol(extend, x, y)\n",
    "        value = img[row, col]\n",
    "    elif   coordinate_type == \"xy\":\n",
    "        row, col = xy_to_rowcol(extend, coordinates[0], coordinates[1])\n",
    "        value = img[row, col]\n",
    "    else:\n",
    "        raise('coordinate_type may be wrong!')\n",
    "    return value\n",
    "                   "
   ]
  },
  {
   "cell_type": "code",
   "execution_count": 47,
   "metadata": {},
   "outputs": [],
   "source": [
    "path = r'G:\\china_geodata\\yunnan_region\\chang\\dem_WGS84.tif'\n",
    "_, gcs, pcs, extend, _ = get_file_info(path)"
   ]
  },
  {
   "cell_type": "code",
   "execution_count": 48,
   "metadata": {},
   "outputs": [
    {
     "data": {
      "text/plain": [
       "<osgeo.osr.SpatialReference; proxy of <Swig Object of type 'OSRSpatialReferenceShadow *' at 0x000001DD15E83EA0> >"
      ]
     },
     "execution_count": 48,
     "metadata": {},
     "output_type": "execute_result"
    }
   ],
   "source": [
    "pcs"
   ]
  },
  {
   "cell_type": "code",
   "execution_count": 49,
   "metadata": {},
   "outputs": [],
   "source": [
    "def writeTiff(im_data,im_width,im_height,im_bands,im_geotrans,im_proj,path):\n",
    "    if 'int8' in im_data.dtype.name:\n",
    "        datatype = gdal.GDT_Byte\n",
    "    elif 'int16' in im_data.dtype.name:\n",
    "        datatype = gdal.GDT_UInt16\n",
    "    else:\n",
    "        datatype = gdal.GDT_Float32\n",
    "\n",
    "    if len(im_data.shape) == 3:\n",
    "        im_bands, im_height, im_width = im_data.shape\n",
    "    elif len(im_data.shape) == 2:\n",
    "        im_data = np.array([im_data])\n",
    "    else:\n",
    "        im_bands, (im_height, im_width) = 1,im_data.shape\n",
    "        #创建文件\n",
    "    driver = gdal.GetDriverByName(\"GTiff\")\n",
    "    dataset = driver.Create(path, im_width, im_height, im_bands, datatype)\n",
    "    if(dataset!= None):\n",
    "        dataset.SetGeoTransform(im_geotrans) #写入仿射变换参数\n",
    "        dataset.SetProjection(im_proj) #写入投影\n",
    "    for i in range(im_bands):\n",
    "        dataset.GetRasterBand(i+1).WriteArray(im_data[i])\n",
    "    del dataset"
   ]
  },
  {
   "cell_type": "code",
   "execution_count": 50,
   "metadata": {},
   "outputs": [],
   "source": [
    "ds = gdal.Open(path)\n",
    "tr = ds.GetGeoTransform()\n",
    "prj = ds.GetProjection()\n",
    "x1 = ds.RasterXSize\n",
    "y1 = ds.RasterYSize\n",
    "im_bands = ds.RasterCount #波段数\n",
    "lon = []\n",
    "lat = []\n",
    "for i in range(x1):\n",
    "    for j in range(y1):\n",
    "        #a, b = rowcol_to_xy(extend, i, j)\n",
    "        a, b = xy_to_lonlat(gcs, pcs, i, j)\n",
    "        lon.append(a)\n",
    "        lat.append(b)"
   ]
  },
  {
   "cell_type": "code",
   "execution_count": 45,
   "metadata": {},
   "outputs": [
    {
     "data": {
      "text/plain": [
       "(-810667.1822406978, 3012635.475413719)"
      ]
     },
     "execution_count": 45,
     "metadata": {},
     "output_type": "execute_result"
    }
   ],
   "source": [
    "rowcol_to_xy(extend, 500, 500)"
   ]
  },
  {
   "cell_type": "code",
   "execution_count": 41,
   "metadata": {},
   "outputs": [
    {
     "data": {
      "text/plain": [
       "<matplotlib.colorbar.Colorbar at 0x1dd1de90fd0>"
      ]
     },
     "execution_count": 41,
     "metadata": {},
     "output_type": "execute_result"
    },
    {
     "data": {
      "image/png": "[encoded data removed]",
      "text/plain": [
       "<Figure size 432x288 with 2 Axes>"
      ]
     },
     "metadata": {},
     "output_type": "display_data"
    }
   ],
   "source": [
    "import matplotlib.pyplot as plt\n",
    "\n",
    "lon = np.array(lon).reshape(y1, x1)\n",
    "lat = np.array(lat).reshape(y1, x1)\n",
    "plt.imshow(lon)\n",
    "plt.colorbar()"
   ]
  },
  {
   "cell_type": "code",
   "execution_count": null,
   "metadata": {},
   "outputs": [],
   "source": []
  },
  {
   "cell_type": "code",
   "execution_count": 52,
   "metadata": {},
   "outputs": [
    {
     "ename": "AttributeError",
     "evalue": "'list' object has no attribute 'dtype'",
     "output_type": "error",
     "traceback": [
      "\u001b[1;31m---------------------------------------------------------------------------\u001b[0m",
      "\u001b[1;31mAttributeError\u001b[0m                            Traceback (most recent call last)",
      "\u001b[1;32m<ipython-input-52-135e4e9b5c4e>\u001b[0m in \u001b[0;36m<module>\u001b[1;34m()\u001b[0m\n\u001b[1;32m----> 1\u001b[1;33m \u001b[0mwriteTiff\u001b[0m\u001b[1;33m(\u001b[0m\u001b[0mlon\u001b[0m\u001b[1;33m,\u001b[0m\u001b[0mx1\u001b[0m\u001b[1;33m,\u001b[0m\u001b[0my1\u001b[0m\u001b[1;33m,\u001b[0m\u001b[0mim_bands\u001b[0m\u001b[1;33m,\u001b[0m\u001b[0mtr\u001b[0m\u001b[1;33m,\u001b[0m\u001b[0mprj\u001b[0m\u001b[1;33m,\u001b[0m\u001b[1;34mr'G:\\china_geodata\\yunnan_region\\lon.tif'\u001b[0m\u001b[1;33m)\u001b[0m\u001b[1;33m\u001b[0m\u001b[0m\n\u001b[0m",
      "\u001b[1;32m<ipython-input-49-c4e538015fd6>\u001b[0m in \u001b[0;36mwriteTiff\u001b[1;34m(im_data, im_width, im_height, im_bands, im_geotrans, im_proj, path)\u001b[0m\n\u001b[0;32m      1\u001b[0m \u001b[1;32mdef\u001b[0m \u001b[0mwriteTiff\u001b[0m\u001b[1;33m(\u001b[0m\u001b[0mim_data\u001b[0m\u001b[1;33m,\u001b[0m\u001b[0mim_width\u001b[0m\u001b[1;33m,\u001b[0m\u001b[0mim_height\u001b[0m\u001b[1;33m,\u001b[0m\u001b[0mim_bands\u001b[0m\u001b[1;33m,\u001b[0m\u001b[0mim_geotrans\u001b[0m\u001b[1;33m,\u001b[0m\u001b[0mim_proj\u001b[0m\u001b[1;33m,\u001b[0m\u001b[0mpath\u001b[0m\u001b[1;33m)\u001b[0m\u001b[1;33m:\u001b[0m\u001b[1;33m\u001b[0m\u001b[0m\n\u001b[1;32m----> 2\u001b[1;33m     \u001b[1;32mif\u001b[0m \u001b[1;34m'int8'\u001b[0m \u001b[1;32min\u001b[0m \u001b[0mim_data\u001b[0m\u001b[1;33m.\u001b[0m\u001b[0mdtype\u001b[0m\u001b[1;33m.\u001b[0m\u001b[0mname\u001b[0m\u001b[1;33m:\u001b[0m\u001b[1;33m\u001b[0m\u001b[0m\n\u001b[0m\u001b[0;32m      3\u001b[0m         \u001b[0mdatatype\u001b[0m \u001b[1;33m=\u001b[0m \u001b[0mgdal\u001b[0m\u001b[1;33m.\u001b[0m\u001b[0mGDT_Byte\u001b[0m\u001b[1;33m\u001b[0m\u001b[0m\n\u001b[0;32m      4\u001b[0m     \u001b[1;32melif\u001b[0m \u001b[1;34m'int16'\u001b[0m \u001b[1;32min\u001b[0m \u001b[0mim_data\u001b[0m\u001b[1;33m.\u001b[0m\u001b[0mdtype\u001b[0m\u001b[1;33m.\u001b[0m\u001b[0mname\u001b[0m\u001b[1;33m:\u001b[0m\u001b[1;33m\u001b[0m\u001b[0m\n\u001b[0;32m      5\u001b[0m         \u001b[0mdatatype\u001b[0m \u001b[1;33m=\u001b[0m \u001b[0mgdal\u001b[0m\u001b[1;33m.\u001b[0m\u001b[0mGDT_UInt16\u001b[0m\u001b[1;33m\u001b[0m\u001b[0m\n",
      "\u001b[1;31mAttributeError\u001b[0m: 'list' object has no attribute 'dtype'"
     ]
    }
   ],
   "source": [
    "writeTiff(lon,x1,y1,im_bands,tr,prj,r'G:\\china_geodata\\yunnan_region\\lon.tif')"
   ]
  },
  {
   "cell_type": "code",
   "execution_count": 46,
   "metadata": {},
   "outputs": [],
   "source": [
    "#writeTiff(lat,x1,y1,im_bands,tr,prj,r'G:\\china_geodata\\yunnan_region\\lat.tif')"
   ]
  },
  {
   "cell_type": "code",
   "execution_count": 51,
   "metadata": {},
   "outputs": [
    {
     "data": {
      "text/plain": [
       "0.009009009009009009"
      ]
     },
     "execution_count": 51,
     "metadata": {},
     "output_type": "execute_result"
    }
   ],
   "source": [
    "1/111"
   ]
  },
  {
   "cell_type": "code",
   "execution_count": null,
   "metadata": {},
   "outputs": [],
   "source": []
  }
 ],
 "metadata": {
  "kernelspec": {
   "display_name": "Python 3",
   "language": "python",
   "name": "python3"
  },
  "language_info": {
   "codemirror_mode": {
    "name": "ipython",
    "version": 3
   },
   "file_extension": ".py",
   "mimetype": "text/x-python",
   "name": "python",
   "nbconvert_exporter": "python",
   "pygments_lexer": "ipython3",
   "version": "3.6.5"
  }
 },
 "nbformat": 4,
 "nbformat_minor": 2
}
